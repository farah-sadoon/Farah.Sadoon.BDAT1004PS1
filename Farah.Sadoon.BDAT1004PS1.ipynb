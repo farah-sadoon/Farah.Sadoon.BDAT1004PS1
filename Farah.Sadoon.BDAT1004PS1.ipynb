{
 "cells": [
  {
   "cell_type": "markdown",
   "id": "6171d29e",
   "metadata": {},
   "source": [
    "# Problem Set 1\n",
    "BDAT 1004 - Data Programming\n",
    "\n",
    "\n",
    "Farah Sadoon 200574206"
   ]
  },
  {
   "cell_type": "markdown",
   "id": "e35d18de",
   "metadata": {},
   "source": [
    "<h3><font color='#004b87'>QUESTION 1 C#</font></h3>\n",
    "Which data type is each of the following?\n",
    "\n",
    "a) 5 <p></p>b) 5.0 <p></p>\n",
    "c) 5 > 1 <p></p>\n",
    "d) '5' <p></p>\n",
    "e) 5 * 2 <p></p>\n",
    "f) '5' * 2 <p></p>\n",
    "g) '5' + '2' <p></p>\n",
    "h) 5 / 2 <p></p>\n",
    "i) 5 % 2 <p></p>\n",
    "j) {5, 2, 1} <p></p>\n",
    "k) 5 == 3 <p></p>\n",
    "l) Pi (the number)"
   ]
  },
  {
   "cell_type": "markdown",
   "id": "94a33781",
   "metadata": {},
   "source": [
    "    a) integer \n",
    "    b) double (double precision floating-point number)\n",
    "    c) boolean\n",
    "    d) string \n",
    "    e) integer\n",
    "    f) integer \n",
    "    g) string \n",
    "    h) integer\n",
    "    i) integer\n",
    "    j) array of integers\n",
    "    k) boolean\n",
    "    l) double (double precision floating-point number)"
   ]
  },
  {
   "cell_type": "code",
   "execution_count": null,
   "id": "75bc67be",
   "metadata": {},
   "outputs": [],
   "source": [
    "var a = 5;\n",
    "Console.WriteLine(a.GetType());\n",
    "\n",
    "var b = 5.0;\n",
    "Console.WriteLine(b.GetType());\n",
    "\n",
    "var c = 5 > 1;\n",
    "Console.WriteLine(c.GetType());\n",
    "\n",
    "var d = \"5\";\n",
    "Console.WriteLine(d.GetType());\n",
    "\n",
    "var e = 5 * 2;\n",
    "Console.WriteLine(e.GetType());\n",
    "\n",
    "var f = '5' * 2; // using double quotations returns an error, as you cannot concatenate strings using the * operator\n",
    "Console.WriteLine(f.GetType());\n",
    "\n",
    "var g = \"5\" + \"2\";\n",
    "Console.WriteLine(g.GetType());\n",
    "\n",
    "var h = 5 / 2;\n",
    "Console.WriteLine(h.GetType());\n",
    "\n",
    "var i = 5 % 2; \n",
    "Console.WriteLine(i.GetType());\n",
    "\n",
    "int[] j = new int[] { 5, 2, 1 };\n",
    "Console.WriteLine(j.GetType());\n",
    "\n",
    "var k = 5 == 3; \n",
    "Console.WriteLine(k.GetType());\n",
    "\n",
    "var l = Math.PI;\n",
    "Console.WriteLine(l.GetType());"
   ]
  },
  {
   "cell_type": "markdown",
   "id": "8c6feeb7",
   "metadata": {},
   "source": [
    "Below is output from C# Console: \n",
    "\n",
    "    System.Int32\n",
    "    System.Double\n",
    "    System.Boolean\n",
    "    System.String\n",
    "    System.Int32\n",
    "    System.Int32\n",
    "    System.String\n",
    "    System.Int32\n",
    "    System.Int32\n",
    "    System.Int32[]\n",
    "    System.Boolean\n",
    "    System.Double"
   ]
  },
  {
   "cell_type": "markdown",
   "id": "0cea8747",
   "metadata": {},
   "source": [
    "<h3><font color='#004b87'>QUESTION 2 C#</font></h3>\n",
    "\n",
    "Write (and evaluate) C# expressions that answer these questions: \n",
    "\n",
    "a) How many letters are there in 'Supercalifragilisticexpialidocious'?<p></p>\n",
    "b) Does 'Supercalifragilisticexpialidocious' contain 'ice' as a substring?<p></p>\n",
    "c) Which of the following words is the longest: Supercalifragilisticexpialidocious, Honorificabilitudinitatibus, or Bababadalgharaghtakamminarronnkonn?<p></p>\n",
    "d) Which composer comes first in the dictionary: 'Berlioz', 'Borodin', 'Brian', 'Bartok', 'Bellini', 'Buxtehude', 'Bernstein'. Which one comes last?\n"
   ]
  },
  {
   "cell_type": "code",
   "execution_count": null,
   "id": "74b5f371",
   "metadata": {},
   "outputs": [],
   "source": [
    "// defining string \n",
    "string myString = \"Supercalifragilisticexpialidocious\";\n",
    "\n",
    "// a) How many letters are there in \"Supercalifragilisticexpialidocious\"; using string property Length\n",
    "Console.WriteLine(myString.Length);\n",
    "\n",
    "// b) Does 'Supercalifragilisticexpialidocious' contain 'ice' as a substring?; evaluating using string method Contains()\n",
    "Console.WriteLine(myString.Contains(\"ice\"));\n",
    "\n",
    "// c) Which of the following words is the longest: \n",
    "    //Supercalifragilisticexpialidocious, Honorificabilitudinitatibus, or Bababadalgharaghtakamminarronnkonn?\n",
    "    //Using string method Compare() to evaluate which string is longest \n",
    "\n",
    "// defining new strings for words Honorificabilitudinitatibus and Bababadalgharaghtakamminarronnkonn\n",
    "string myString2 = \"Honorificabilitudinitatibus\";\n",
    "string myString3 = \"Bababadalgharaghtakamminarronnkonn\";\n",
    "\n",
    "// using the Length property, using Boolean logic and if else statements to determine which \"word\" is the longest\n",
    "// using Console.WriteLine() to print out which string is largest by using string interpolation (used in lecture 2 notes, \n",
    "// but terminology taken from https://learn.microsoft.com/en-us/dotnet/csharp/language-reference/tokens/interpolated)\n",
    "// first if statement evaluates whether Supercalifragilisticexpialidocious is larger than Honorificabilitudinitatibus \n",
    "if (myString.Length > myString2.Length)\n",
    "{\n",
    "    // evaluating whether Supercalifragilisticexpialidocious is also larger than Bababadalgharaghtakamminarronnkonn\n",
    "  if (myString.Length > myString3.Length)\n",
    "   {\n",
    "     Console.WriteLine($\"{myString} is a longer word than {myString2} and {myString3}.\");\n",
    "   }\n",
    "    // else condition used if Bababadalgharaghtakamminarronnkonn is larger than both other strings \n",
    "  else\n",
    "   {\n",
    "     Console.WriteLine($\"{myString3} is a longer word than {myString} and {myString2}.\");\n",
    "   }\n",
    "}\n",
    "else // case if myString2 is larger than myString\n",
    "{\n",
    "  if (myString2.Length > myString3.Length) // evaluating if myString2 is larger than myString3\n",
    "   {\n",
    "     Console.WriteLine($\"{myString2} is a longer word than {myString} and {myString3}.\");\n",
    "   }\n",
    "  else\n",
    "   {\n",
    "     Console.WriteLine($\"{myString3} is a longer word than {myString} and {myString2}.\");\n",
    "   }\n",
    "}\n",
    "\n",
    "// d) Which composer comes first in the dictionary: 'Berlioz', 'Borodin', 'Brian', 'Bartok', 'Bellini', 'Buxtehude', 'Bernstein'. Which one comes last?\n",
    "\n",
    "string[] composerArray = {\"Berlioz\", \"Borodin\", \"Brian\", \"Bartok\", \"Bellini\", \"Buxtehude\", \"Bernstein\"}; // creating array containing strings of composer names\n",
    "\n",
    "Array.Sort(composerArray); // sort method orders strings in array in alphabetical order // using Array.Sort() method to order strings in array with alpha order\n",
    "\n",
    "Console.WriteLine($\"The composer that comes first in the dictionary is {composerArray[0]}\"); // indexing first string in array\n",
    "Console.WriteLine($\"The composer that comes last in the dictionary is {composerArray[^1]}\"); // indexing last string in array \n",
    "// (obtained hat operator strategy used in above line from https://learn.microsoft.com/en-us/dotnet/csharp/language-reference/proposals/csharp-8.0/ranges)"
   ]
  },
  {
   "cell_type": "markdown",
   "id": "aef38798",
   "metadata": {},
   "source": [
    "Below is output from C# Console: \n",
    "\n",
    "    34\n",
    "    True\n",
    "    Bababadalgharaghtakamminarronnkonn is a longer word than Supercalifragilisticexpialidocious and Honorificabilitudinitatibus.\n",
    "    The composer that comes first in the dictionary is Bartok.\n",
    "    The composer that comes last in the dictionary is Buxtehude."
   ]
  },
  {
   "cell_type": "markdown",
   "id": "0465868c",
   "metadata": {},
   "source": [
    "<h3><font color='#004b87'>QUESTION 3 C#</font></h3>\n",
    "\n",
    "Implement function triangleArea(a,b,c) that takes as input the lengths of the three sides of a triangle and returns the area of the triangle. By Heron's forumla, the area of a triangle with sides a, b, and c is $\\sqrt{s(s − a)(s −b)(s −c)}$, where $s = (a + b + c)/2$."
   ]
  },
  {
   "cell_type": "code",
   "execution_count": null,
   "id": "94f52aaf",
   "metadata": {},
   "outputs": [],
   "source": [
    "class Shapes // defining new class called shapes which contains the method to compute area of a triangle\n",
    "{\n",
    "    public double triangleArea(double a , double b, double c) // creating a new method triangleArea that has three parameters (corresponding to side length)\n",
    "    {\n",
    "        double s = (a + b + c) / 2; // defining variable s, which is used in Heron's formula\n",
    "        double area = Math.Sqrt(s * (s - a) * (s - b) * (s - c)); // defining area variable with Heron's formula \n",
    "        return area; // specifying that the result of area should be returned if method triangleArea is called \n",
    "    }\n",
    "    public static void Main()\n",
    "    {\n",
    "        Shapes triangleA = new Shapes(); // defining new object within class shapes for triangle A\n",
    "        double result = triangleA.triangleArea(2, 3, 4); // calculating area of triangle A using method triangleArea()\n",
    "        Console.WriteLine($\"The area of a triangle with side lengths 2 cm, 3 cm and 4 cm is {result} cm \"); // printing final result in console\n",
    "    }\n",
    "}"
   ]
  },
  {
   "cell_type": "markdown",
   "id": "8a7fcc50",
   "metadata": {},
   "source": [
    "Below is output from C# Console: \n",
    "\n",
    "    The area of a triangle with side lengths 2 cm, 3 cm and 4 cm is 2.9047375096555625 cm."
   ]
  },
  {
   "cell_type": "markdown",
   "id": "8a30ffe1",
   "metadata": {},
   "source": [
    "<h3><font color='#004b87'>QUESTION 4 C#</font></h3>\n",
    "\n",
    "Write a program in C# to separate odd and even integers in separate arrays. \n",
    "\n",
    "Go to the editor <p></p>\n",
    "Test Data: \n",
    "Input the number of elements to be store in the array: 5\n",
    "\n",
    "Input 5 elements in the array:<p></p>\n",
    "element - 0 : 25<p></p>\n",
    "element - 1 : 47<p></p>\n",
    "element - 2 : 42<p></p>\n",
    "element - 3 : 56<p></p>\n",
    "element - 4 : 32<p></p>\n",
    "\n",
    "Expected Output:<p></p>\n",
    "The even elements are:<p></p>\n",
    "42 56 32<p></p>\n",
    "The Odd elements are:<p></p>\n",
    "25 47"
   ]
  },
  {
   "cell_type": "code",
   "execution_count": null,
   "id": "3e97b9e6",
   "metadata": {},
   "outputs": [],
   "source": [
    "int[] myArray = {25, 47, 42, 56, 32}; // creating a new array\n",
    "\n",
    "List<int> evenList = new List<int>(); // creating an empty list for the even numbers to be stored \n",
    "List<int> oddList = new List<int>(); // creating an empty list for the odd numbers to be stored\n",
    "\n",
    "foreach (int i in myArray) // using for loop to iterate through each value in myArray\n",
    "{\n",
    "    if (i % 2 == 0) // if the number is even, it will return a remainder of 0 when divided by 2\n",
    "    {\n",
    "        evenList.Add(i); // adding even numbers to evenList\n",
    "    }\n",
    "    else // if the numbers is odd, it will return a remainder of greater than 0 when divided by 2\n",
    "    {\n",
    "        oddList.Add(i); // adding odd numbers to oddList\n",
    "    }\n",
    "\n",
    "}\n",
    "\n",
    "Console.WriteLine($\"The even elements are:\");\n",
    "Console.WriteLine(string.Join(\" \", evenList)); // creating new string containing the evenList digits\n",
    "Console.WriteLine($\"The odd elements are:\");\n",
    "Console.WriteLine(string.Join(\" \", oddList)); // creating new string containing the oddList digits"
   ]
  },
  {
   "cell_type": "markdown",
   "id": "5ebfdaed",
   "metadata": {},
   "source": [
    "Below is output from C# Console: \n",
    "\n",
    "    The even elements are:\n",
    "    42 56 32\n",
    "    The odd elements are:\n",
    "    25 47"
   ]
  },
  {
   "cell_type": "markdown",
   "id": "0276eff7",
   "metadata": {},
   "source": [
    "<h3><font color='#004b87'>QUESTION 5 C#</font></h3>\n",
    "\n",
    "a) Write a function inside (x, y, x1, y1, x2, y2) that returns True or False depending on whether the point (x, y) lies in the rectangle with lower left corner (x1, y1) and upper right corner (x2,y2). \n",
    "\n",
    "b) Use function inside() from part a) to write an expression that tests whether the point (1,1) lies in both of the following rectangles: one with lower left corner (0.3, 0.5) and upper right corner (1.1, 0.7) and the other with lower left corner (0.5, 0.2) and upper right corner (1.1, 2)."
   ]
  },
  {
   "cell_type": "code",
   "execution_count": null,
   "id": "a8278b51",
   "metadata": {},
   "outputs": [],
   "source": [
    "// a) Write a function inside(x, y, x1, y1, x2, y2) that returns True or False depending on whether the point (x,y)\n",
    "// lies in the rectangle with lower left corner (x1, y1) and upper right corner (x2, y2). \n",
    "class Shapes\n",
    "{\n",
    "    public bool inside(double x, double y, double x1, double y1, double x2, double y2) //creating new method inside()\n",
    "    {\n",
    "        bool condition = true // creating variable condition that stores the boolean value that will be evaluated\n",
    "        if (x - x1 > 0 & y - y1 > 0 & x - x2 < 0 & y - y2 < 0) // evaluating if the point lies within the rectangle\n",
    "        {\n",
    "            condition = true; \n",
    "            return condition;\n",
    "        }\n",
    "        else // if the point does not lie within the rectangle\n",
    "        {\n",
    "            condition =  false;\n",
    "            return condition;\n",
    "        }\n",
    "    }\n",
    "    public static void Main()\n",
    "    {\n",
    "        Shapes pointA = new Shapes(); // creating new object within class shapes for pointA\n",
    "        var result = pointA.inside(1, 1, 0, 0, 2, 3);\n",
    "        Console.WriteLine(result);\n",
    "\n",
    "        Shapes pointB = new Shapes(); // creating new object within class shapes for pointB\n",
    "        var resultB = pointB.inside(-1, -1, 0, 0, 2, 3);\n",
    "        Console.WriteLine(resultB);\n",
    "        \n",
    "// b) Use function inside() from part a) to write an expression that tests whether the point (1,1) lies in both of the following rectangles:\n",
    "// one with lower left corner 0.3, 0.5) and upper corner (1.1, 0.7) and the other with the lower left corner (0.5, 0.2) and upper right corner (1.1, 2)\n",
    "        \n",
    "        Shapes rectangleA = new Shapes(); // creating new object within class shapes for rectangleA\n",
    "        var result = rectangleA.inside(1, 1, 0.3, 0.5, 1.1, 0.7);\n",
    "        Console.WriteLine(result);\n",
    "\n",
    "        Shapes rectangleB = new Shapes(); // creating new object within class shapes for point B\n",
    "        var resultB = rectangleB.inside(1, 1, 0.5, 0.2, 1.1, 2);\n",
    "        Console.WriteLine(resultB);\n",
    "    }\n",
    "}"
   ]
  },
  {
   "cell_type": "markdown",
   "id": "d1e9add7",
   "metadata": {},
   "source": [
    "Below is output from C# Console: \n",
    "\n",
    "    True\n",
    "    False\n",
    "    False\n",
    "    True"
   ]
  },
  {
   "cell_type": "markdown",
   "id": "3c3ec27f",
   "metadata": {},
   "source": [
    "<h3><font color='#004b87'>QUESTION 6 PYTHON</font></h3>\n",
    "\n",
    "You can turn a word into pig-Latin using the following two rules(simplified): \n",
    "<p></p>\n",
    "\n",
    "<li>If the word starts with a consonant, move that letter to the end and append\n",
    "'ay'. For example, 'happy' becomes 'appyhay' and 'pencil' becomes 'encilpay'.\n",
    "    \n",
    "<li> If the word starts with a vowel, simply append 'way' to the end of the word.\n",
    "For example, 'enter' becomes 'enterway' and 'other' becomes 'otherway' . \n",
    "    \n",
    "For our purposes, there are 5 vowels: a, e, i, o, u (so we count y as a consonant).\n",
    "    \n",
    "Write a function pig() that takes a word (i.e., a string) as input and returns its pigLatin form. Your function should still work if the input word contains upper case characters. Your output should always be lower case however."
   ]
  },
  {
   "cell_type": "code",
   "execution_count": 1,
   "id": "8053a3a3",
   "metadata": {
    "scrolled": true
   },
   "outputs": [
    {
     "name": "stdout",
     "output_type": "stream",
     "text": [
      "ellohay\n",
      "enterway\n"
     ]
    }
   ],
   "source": [
    "def pig(word):\n",
    "    \n",
    "    word_lc = word.lower() #making word input lowercase\n",
    "    vowels_list = ['a', 'e', 'i', 'o', 'u'] #creating a list of vowels to search for \n",
    "    if word_lc[0] in vowels_list: #checking if the first letter of the word inputted contains a vowel\n",
    "        print(word_lc + 'way') #concatenating the input word with the suffix 'way'\n",
    "     \n",
    "    else: \n",
    "        print(word_lc[1:] + word_lc[0] + 'ay') #concatenating the input word without the first character with the first letter of the input word and the suffix 'ay' \n",
    "\n",
    "pig('hello')\n",
    "pig('Enter')"
   ]
  },
  {
   "cell_type": "markdown",
   "id": "68bf43e9",
   "metadata": {},
   "source": [
    "<h3><font color='#004b87'>QUESTION 7 PYTHON</font></h3>\n",
    "\n",
    "File bloodtype1.txt records blood-types of patients (A, B, AB, or OO) at a clinic. Write a function bldcount() that reads the file with name _bloodtype1.txt_ and reports (i.e., prints) how many patients there are in each bloodtype."
   ]
  },
  {
   "cell_type": "code",
   "execution_count": 2,
   "id": "5da112d3",
   "metadata": {
    "scrolled": true
   },
   "outputs": [
    {
     "name": "stdout",
     "output_type": "stream",
     "text": [
      "There are 15 patients of blood type A.\n",
      "There is one patient of blood type B.\n",
      "There are 13 patients of blood type B.\n",
      "There are 15 patients of blood type O.\n",
      "There are no patients of blood type OO.\n"
     ]
    }
   ],
   "source": [
    "def bldcount():\n",
    "    infile = open('/Users/farahsadoon/Desktop/bloodtype1.txt') #opening text file\n",
    "    file_contents = infile.read() #creating variable with the contents of the text file by reading it \n",
    "    \n",
    "    type_list = file_contents.split() #creating a list of strings that are separated by the spaces in the text file\n",
    "   \n",
    "    #creating a count for each blood type, starting at zero before iterating through list\n",
    "    count_a = 0\n",
    "    count_b = 0\n",
    "    count_ab = 0\n",
    "    count_o = 0\n",
    "    count_oo = 0\n",
    "    \n",
    "    '''iterating through the list of blood type instances; for each occurrance of blood type the count is \n",
    "    increased by one'''\n",
    "    \n",
    "    for bld_type in type_list:\n",
    "        if bld_type == 'A':\n",
    "            count_a = count_a + 1\n",
    "        \n",
    "        elif bld_type == 'B':\n",
    "            count_b = count_b + 1\n",
    "            \n",
    "        elif bld_type == 'AB':\n",
    "            count_ab = count_ab + 1\n",
    "            \n",
    "        elif bld_type == 'O':\n",
    "            count_o = count_o + 1\n",
    "   \n",
    "        else:\n",
    "            count_oo = count_oo + 1\n",
    "    \n",
    "    '''for each of the three scenarios (no patients, 1 patient, or multiple patients with certain blood type),\n",
    "    creating if-else statements to print report of blood types depending on the count'''\n",
    "    \n",
    "    if count_a == 0:\n",
    "        print('There are no patients of blood type A.')\n",
    "    elif count_a == 1: \n",
    "        print('There is one patient of blood type A.')      \n",
    "    else: \n",
    "        print('There are', count_a, 'patients of blood type A.')\n",
    "    \n",
    "    if count_b == 0:\n",
    "        print('There are no patients of blood type B.')\n",
    "    elif count_b == 1: \n",
    "        print('There is one patient of blood type B.')      \n",
    "    else: \n",
    "        print('There are', count_b, 'patients of blood type B.')\n",
    "        \n",
    "    if count_ab == 0:\n",
    "        print('There are no patients of blood type AB.')\n",
    "    elif count_ab == 1: \n",
    "        print('There is one patient of blood type AB.')       \n",
    "    else: \n",
    "        print('There are', count_ab, 'patients of blood type B.')\n",
    "    \n",
    "    if count_o == 0:\n",
    "        print('There are no patients of blood type O.')\n",
    "    elif count_o == 1: \n",
    "        print('There is one patient of blood type O.')       \n",
    "    else: \n",
    "        print('There are', count_o, 'patients of blood type O.')\n",
    "    \n",
    "    if count_oo == 0:\n",
    "        print('There are no patients of blood type OO.')\n",
    "    elif count_oo == 1: \n",
    "        print('There is one patient of blood type OO.')       \n",
    "    else: \n",
    "        print('There are', count_oo, 'patients of blood type OO.')\n",
    "\n",
    "bldcount()\n",
    "    "
   ]
  },
  {
   "cell_type": "markdown",
   "id": "1db37503",
   "metadata": {},
   "source": [
    "<h3><font color='#004b87'>QUESTION 8 PYTHON</font></h3>\n",
    "\n",
    "Write a function curconv() that takes as input:\n",
    "\n",
    "1. a currency represented using a string (e.g., 'JPY' for the Japanese Yen or EUR for the Euro)\n",
    "\n",
    "2. an amount\n",
    "\n",
    "and then converts and returns the amount in US dollars."
   ]
  },
  {
   "cell_type": "code",
   "execution_count": 3,
   "id": "1f283514",
   "metadata": {},
   "outputs": [
    {
     "name": "stdout",
     "output_type": "stream",
     "text": [
      "122.96544\n",
      "1.241401\n"
     ]
    }
   ],
   "source": [
    "def curconv(currency, amount):\n",
    "    infile = open('/Users/farahsadoon/Desktop/currencies.txt')\n",
    "    \n",
    "    #defining new variable where the textfile is separated into each line of text \n",
    "    currency_list = infile.readlines()\n",
    "    \n",
    "    '''creating two lists: one that will contain only country codes, the second will contain conversion rates\n",
    "    for each of the codes in currency_code_list, in the same order''' \n",
    "    currency_code_list = []\n",
    "    currency_conv_list = []\n",
    "    \n",
    "    '''iterating through each line of text and searching for the country codes and conversion by indexing the\n",
    "    strings and appending them to their corresponding lists, as defined above'''\n",
    "    for line in currency_list:\n",
    "        currency_code_list.append(line[0:3])\n",
    "        currency_conv_list.append(line[4:14])\n",
    "    \n",
    "    #defining new variable conversion which will contain the conversion rate as defined in the text file\n",
    "    conversion = 0\n",
    "    \n",
    "    '''defining new variable conversion_list_index which will contain the position that the conversion rate will \n",
    "    be in within the list currency_conv_list '''\n",
    "    conversion_list_index = 0\n",
    "    \n",
    "    '''checking whether the input matches the codes listed in the text file and if so, finding its position within \n",
    "    the list to then use to locate the conversion rate'''\n",
    "    if currency in currency_code_list:\n",
    "        \n",
    "        conversion_list_index = (currency_code_list.index((currency)))\n",
    "        conversion = currency_conv_list[conversion_list_index]\n",
    "    \n",
    "    #defining a list of numbers that will be used to filter out any non-numeric characters in the conversion string\n",
    "    numbers_list = ['0','1','2','3','4','5','6','7','8','9']\n",
    "    \n",
    "    #filtering out non-numeric characters in conversion to use with mathematical operaters\n",
    "    for character in conversion:\n",
    "        if character not in numbers_list:\n",
    "            conversion.replace(character, '')\n",
    "            \n",
    "    #calculating the amount in USD by multiplying the amount input with the conversion rate converted to a float \n",
    "    amt_USD = amount * float(conversion)\n",
    "    print(amt_USD)\n",
    "    \n",
    "curconv('EUR', 100)\n",
    "curconv('JPY', 100)"
   ]
  },
  {
   "cell_type": "markdown",
   "id": "136cea1f",
   "metadata": {},
   "source": [
    "<h3><font color='#004b87'>QUESTION 9 PYTHON</font></h3>\n",
    "\n",
    "Each of the following will cause an exception (an error). Identify what type of exception each will cause. \n",
    "\n",
    "a) Trying to add incompatible variables, as in adding 6 + 'a'\n",
    "\n",
    "b) Referring to the 12th item of a list that has only 10 items\n",
    "\n",
    "c) Using a value that is out of range for a function's input, such as calling math.sqrt(-1.0)\n",
    "\n",
    "d) Using an undeclared variable such as print(x) when x has not been defined\n",
    "\n",
    "e) Trying to open a file that does not exist, such as mistyping the file name or looking in the wrong directory"
   ]
  },
  {
   "cell_type": "markdown",
   "id": "99a3d03a",
   "metadata": {},
   "source": [
    "    a) TypeError - raised when an operation of function is applied to an object of the wrong type\n",
    "    \n",
    "    b) IndexError - raised when a sequence index is outside the range of valid indexes\n",
    "    \n",
    "    c) ValueError - raised when operation or function has an argument of the right type by incorrect value\n",
    "    \n",
    "    d) NameError - raised when attempting to evlaute an unassigned identifier (name)\n",
    "    \n",
    "    e) IOError (FileNotFoundError) - raised when an I/O operation failes for an I/O-related reason ("
   ]
  },
  {
   "cell_type": "code",
   "execution_count": 2,
   "id": "8229183a",
   "metadata": {},
   "outputs": [
    {
     "ename": "TypeError",
     "evalue": "unsupported operand type(s) for +: 'int' and 'str'",
     "output_type": "error",
     "traceback": [
      "\u001b[0;31m---------------------------------------------------------------------------\u001b[0m",
      "\u001b[0;31mTypeError\u001b[0m                                 Traceback (most recent call last)",
      "Cell \u001b[0;32mIn[2], line 2\u001b[0m\n\u001b[1;32m      1\u001b[0m \u001b[38;5;66;03m#a) Trying to add incompatible variables, as in adding 6 + 'a'\u001b[39;00m\n\u001b[0;32m----> 2\u001b[0m \u001b[38;5;241;43m6\u001b[39;49m\u001b[43m \u001b[49m\u001b[38;5;241;43m+\u001b[39;49m\u001b[43m \u001b[49m\u001b[38;5;124;43m'\u001b[39;49m\u001b[38;5;124;43ma\u001b[39;49m\u001b[38;5;124;43m'\u001b[39;49m\n\u001b[1;32m      4\u001b[0m \u001b[38;5;66;03m#b) Referring to the 12th item of a list that has only 10 items\u001b[39;00m\n\u001b[1;32m      5\u001b[0m myList \u001b[38;5;241m=\u001b[39m [\u001b[38;5;241m0\u001b[39m, \u001b[38;5;241m1\u001b[39m, \u001b[38;5;241m2\u001b[39m, \u001b[38;5;241m3\u001b[39m, \u001b[38;5;241m4\u001b[39m, \u001b[38;5;241m5\u001b[39m, \u001b[38;5;241m6\u001b[39m, \u001b[38;5;241m7\u001b[39m, \u001b[38;5;241m8\u001b[39m, \u001b[38;5;241m9\u001b[39m, \u001b[38;5;241m10\u001b[39m]\n",
      "\u001b[0;31mTypeError\u001b[0m: unsupported operand type(s) for +: 'int' and 'str'"
     ]
    }
   ],
   "source": [
    "#a) Trying to add incompatible variables, as in adding 6 + 'a'\n",
    "6 + 'a'\n",
    "\n",
    "#b) Referring to the 12th item of a list that has only 10 items\n",
    "myList = [0, 1, 2, 3, 4, 5, 6, 7, 8, 9, 10]\n",
    "print(myList[12])\n",
    "\n",
    "#c) Using a value that is out of range for a function's input, such as calling math.sqrt(-1.0)\n",
    "import math\n",
    "math.sqrt(-1.0)\n",
    "\n",
    "#d) Using an undeclared variable such as print(x) when x has not been defined\n",
    "print(x)\n",
    "\n",
    "#e) Trying to open a file that does not exist, such as mistypiing the file name or looking in the wrong directory\n",
    "infile = open('/Users/farahsadoon/Desktop/currecies.txt')"
   ]
  },
  {
   "cell_type": "markdown",
   "id": "64d357cc",
   "metadata": {},
   "source": [
    "<h3><font color='#004b87'>QUESTION 10 PYTHON</font></h3>\n",
    "<p></p>\n",
    "\n",
    "_Encryption_ is the process of hiding the meaning of a text by substituting letters in the message with other letters, according to some system. If the process is successful, no one but the intended recipient can understand the encrypted message. \n",
    "<p></p>\n",
    "\n",
    "_Cryptanalysis_ refers to attempts to undo the encryption, even if some details of the encryption are unknown (for example, if an encrypted message has been intercepted). The first step of cryptanalysis is often to build up a table of letter frequencies in the encrypted text. \n",
    "<p></p>\n",
    "\n",
    "Assume that the string letters is already defined as 'abcdefghijklmnopqrstuvwxyz'. \n",
    "<p></p>\n",
    "\n",
    "Write a function called frequencies() that takes a string as its only parameter, and returns a list of integers, showing the number of times each character appears in the text. Your function may ignore any characters that are not in letters."
   ]
  },
  {
   "cell_type": "code",
   "execution_count": 3,
   "id": "ba7fe52e",
   "metadata": {},
   "outputs": [
    {
     "name": "stdout",
     "output_type": "stream",
     "text": [
      "[1, 1, 1, 3, 5, 1, 1, 2, 1, 0, 1, 0, 1, 2, 4, 0, 1, 2, 0, 2, 1, 0, 1, 1, 0, 0]\n",
      "[1, 0, 0, 0, 1, 0, 0, 0, 0, 0, 0, 1, 0, 0, 0, 2, 0, 0, 0, 0, 0, 0, 0, 0, 0, 0]\n"
     ]
    }
   ],
   "source": [
    "def frequencies(phrase):\n",
    "    \n",
    "    letters = 'abcdefghijklmnopqrstuvwxyz'\n",
    "    \n",
    "    letters_frequency = [0, 0, 0, 0, 0, 0, 0, 0, 0, 0, 0, 0, 0, 0, 0, 0, 0, 0, 0, 0, 0, 0, 0, 0, 0, 0]\n",
    "    \n",
    "    letter_index = 0\n",
    "    for character in phrase: \n",
    "        if character in letters:\n",
    "            letter_index = letters.index(character)\n",
    "            letters_frequency[letter_index] = letters_frequency[letter_index] + 1\n",
    "            \n",
    "    print(letters_frequency)\n",
    "    \n",
    "frequencies('The quick red fox got bored and went home.')\n",
    "frequencies('apple')"
   ]
  },
  {
   "cell_type": "markdown",
   "id": "94dc37b9",
   "metadata": {},
   "source": [
    "<h3><font color='#004b87'>References</font></h3>\n",
    "\n",
    "https://learn.microsoft.com/en-us/dotnet/csharp/language-reference/tokens/interpolated\n",
    "\n",
    "\n",
    "https://learn.microsoft.com/en-us/dotnet/csharp/language-reference/proposals/csharp-8.0/ranges\n"
   ]
  }
 ],
 "metadata": {
  "kernelspec": {
   "display_name": "Python 3 (ipykernel)",
   "language": "python",
   "name": "python3"
  },
  "language_info": {
   "codemirror_mode": {
    "name": "ipython",
    "version": 3
   },
   "file_extension": ".py",
   "mimetype": "text/x-python",
   "name": "python",
   "nbconvert_exporter": "python",
   "pygments_lexer": "ipython3",
   "version": "3.10.9"
  }
 },
 "nbformat": 4,
 "nbformat_minor": 5
}
